{
 "cells": [
  {
   "cell_type": "markdown",
   "metadata": {},
   "source": [
    "# How to use RUPsycho Parsers"
   ]
  },
  {
   "cell_type": "markdown",
   "metadata": {},
   "source": [
    "Welcome to the introductory guide for the RUPsycho Python package. This guide aims to provide a comprehensive overview of RUPsycho, a new and innovative software tool developed for the application of large language models (LLMs) in social science research. The RUPsycho package is designed to facilitate the exploration of humanlike behaviors through LLMs, offering a unique perspective in the field of natural language processing (NLP).\n",
    "\n",
    "This guide will walk you through the various components and functionalities of RUPsycho. You will learn how to set up the package, navigate its testing environments, and effectively utilize its features for analyzing LLMs in the context of social science. The guide aims to equip researchers with the knowledge and skills required to leverage RUPsycho in their studies, contributing to a deeper understanding of the complex interplay between artificial intelligence and human psychology."
   ]
  },
  {
   "cell_type": "code",
   "execution_count": 1,
   "metadata": {},
   "outputs": [
    {
     "name": "stderr",
     "output_type": "stream",
     "text": [
      "/home/jschelb/.pyenv/versions/3.10.8/envs/rup/lib/python3.10/site-packages/torch/cuda/__init__.py:611: UserWarning: Can't initialize NVML\n",
      "  warnings.warn(\"Can't initialize NVML\")\n"
     ]
    }
   ],
   "source": [
    "import rupsycho as rup\n",
    "from rupsycho.parsers.cleaners import BasicCleaner, PromptRemovalCleaner \n",
    "from rupsycho.parsers.judges import MultipleChoiceParser\n",
    "from rupsycho.parsers.validators import ApologiesValidatorParser, BeingAiValidatorParser, RefusalValidatorParser, ValidatorParser"
   ]
  },
  {
   "cell_type": "markdown",
   "metadata": {},
   "source": [
    "## Cleaners"
   ]
  },
  {
   "cell_type": "markdown",
   "metadata": {},
   "source": [
    "This module defines a specialized parser class called Cleaner, designed to\n",
    "process and clean textual answers by removing artifacts that may have been\n",
    "introduced during the text generation process."
   ]
  },
  {
   "cell_type": "code",
   "execution_count": 2,
   "metadata": {},
   "outputs": [
    {
     "name": "stdout",
     "output_type": "stream",
     "text": [
      "Cleaned output: Hello, world! This is a test text with some emojis and line breaks.\n"
     ]
    }
   ],
   "source": [
    "# Instantiate the custom parser\n",
    "basic_parser = BasicCleaner()\n",
    "\n",
    "# Example text to parse\n",
    "raw_output = \"Hello, world!\\nThis is a test text with some emojis 😊 and line breaks.\\n\"\n",
    "\n",
    "# Parse the output\n",
    "parsed_output = basic_parser.parse(raw_output)\n",
    "\n",
    "# Print the cleaned output\n",
    "print(\"Cleaned output:\", parsed_output)"
   ]
  },
  {
   "cell_type": "code",
   "execution_count": 3,
   "metadata": {},
   "outputs": [
    {
     "name": "stdout",
     "output_type": "stream",
     "text": [
      "Cleaned completion: {'completion': 'once upon a time, there was a brave knight. he fought valiantly against the dragon.', 'similarity_score': 0.683, 'similarity_threshold': 0.7}\n"
     ]
    }
   ],
   "source": [
    "prompt_example = \"Once upon a time, there was a brave knight.\"\n",
    "completion_example = \"Once upon a time, there was a brave knight. He fought valiantly against the dragon.\"\n",
    "\n",
    "# Instantiate the PromptRemovalCleanerParser\n",
    "prompt_cleaner_parser = PromptRemovalCleaner(prompt=prompt_example)\n",
    "\n",
    "# Parse the completion to clean it from the prompt\n",
    "cleaned_completion = prompt_cleaner_parser.parse(completion_example)\n",
    "print(f'Cleaned completion: {cleaned_completion}')"
   ]
  },
  {
   "cell_type": "markdown",
   "metadata": {},
   "source": [
    "## Validators"
   ]
  },
  {
   "cell_type": "markdown",
   "metadata": {},
   "source": [
    "This module defines a specialized parser class called Validator, designed to\n",
    "assess and validate textual answers. The Validator parser takes an answer as\n",
    "input and returns the original answer along with a validation status that\n",
    "indicates whether the input meets specified criteria or rules."
   ]
  },
  {
   "cell_type": "code",
   "execution_count": 4,
   "metadata": {},
   "outputs": [],
   "source": [
    "# Example texts to validate\n",
    "example_texts = {\n",
    "    \"general\": \"I think I would choose option 1 because it seems the best. Also, I somewhat disagree with option 2.\",\n",
    "    \"apologies\": \"I apologize for the inconvenience.\",\n",
    "    \"being_ai\": \"As an AI, I do not have personal opinions.\",\n",
    "    \"refusal\": \"I cannot provide that information.\",\n",
    "    \"combined\": \"I apologize for any confusion, but as an AI, I cannot provide that information.\"\n",
    "}"
   ]
  },
  {
   "cell_type": "code",
   "execution_count": 5,
   "metadata": {},
   "outputs": [
    {
     "name": "stdout",
     "output_type": "stream",
     "text": [
      "Running individual validators:\n",
      "Apologies_validator_parser validation result: {'text': 'I apologize for the inconvenience.', 'validation_status': 'invalid', 'details': {'apologies': True}}\n",
      "\n",
      "Being_ai_validator_parser validation result: {'text': 'As an AI, I do not have personal opinions.', 'validation_status': 'invalid', 'details': {'being_ai': True}}\n",
      "\n",
      "Refusal_validator_parser validation result: {'text': 'I cannot provide that information.', 'validation_status': 'invalid', 'details': {'refusal': True}}\n",
      "\n"
     ]
    }
   ],
   "source": [
    "# Instantiate the individual validators\n",
    "apologies_parser = ApologiesValidatorParser()\n",
    "being_ai_parser = BeingAiValidatorParser()\n",
    "refusal_parser = RefusalValidatorParser()\n",
    "\n",
    "# Function to validate text with a specific parser\n",
    "def validate_text(parser, text_key):\n",
    "    text = example_texts[text_key]\n",
    "    result = parser.parse(text)\n",
    "    print(f'{parser._type.capitalize()} validation result: {result}\\n')\n",
    "\n",
    "# Validate using individual parsers\n",
    "print(\"Running individual validators:\")\n",
    "validate_text(apologies_parser, \"apologies\")\n",
    "validate_text(being_ai_parser, \"being_ai\")\n",
    "validate_text(refusal_parser, \"refusal\")"
   ]
  },
  {
   "cell_type": "code",
   "execution_count": 6,
   "metadata": {},
   "outputs": [
    {
     "name": "stdout",
     "output_type": "stream",
     "text": [
      "Running combined validator:\n",
      "Combined validation result: {'text': 'I apologize for any confusion, but as an AI, I cannot provide that information.', 'validation_status': 'invalid', 'details': {'apologies': True, 'being_ai': True, 'refusal': True}}\n"
     ]
    }
   ],
   "source": [
    "# Instantiate the combined ValidatorParser\n",
    "validator_parser = ValidatorParser()\n",
    "\n",
    "# Validate using the combined parser\n",
    "print(\"Running combined validator:\")\n",
    "combined_result = validator_parser.parse(example_texts[\"combined\"])\n",
    "print(f'Combined validation result: {combined_result}')"
   ]
  },
  {
   "cell_type": "markdown",
   "metadata": {},
   "source": [
    "## Judges"
   ]
  },
  {
   "cell_type": "markdown",
   "metadata": {},
   "source": [
    "This module defines a specialized parser class called Judges, designed to\n",
    "evaluate and process input answers. The Judges parser takes in a textual\n",
    "answer and applies a series of checks and transformations to determine a\n",
    "final prediction or verdict."
   ]
  },
  {
   "cell_type": "code",
   "execution_count": 7,
   "metadata": {},
   "outputs": [
    {
     "name": "stdout",
     "output_type": "stream",
     "text": [
      "Most likely answer with possible answers 1: 1. strongly disagree\n",
      "Most likely answer with possible answers 2: A. strongly disagree\n"
     ]
    }
   ],
   "source": [
    "# Define possible answers\n",
    "possible_answers_1 = [\"1. strongly disagree\",\n",
    "                        \"2. somewhat agree\", \"3. agree\"]\n",
    "possible_answers_2 = [\"A. strongly disagree\",\n",
    "                        \"B. somewhat agree\", \"C. agree\"]\n",
    "\n",
    "# Instantiate the custom parser\n",
    "parser_1 = MultipleChoiceParser(possible_answers_1)\n",
    "parser_2 = MultipleChoiceParser(possible_answers_2)\n",
    "\n",
    "# Example text to parse\n",
    "text = \"I think I would choose option 1 because it seems the best. Also, I somewhat disagree with option 2.\"\n",
    "\n",
    "# Parse the output using both sets of possible answers\n",
    "result_1 = parser_1.invoke(text)\n",
    "print(f'Most likely answer with possible answers 1: {result_1}')\n",
    "\n",
    "result_2 = parser_2.invoke(text)\n",
    "print(f'Most likely answer with possible answers 2: {result_2}')"
   ]
  }
 ],
 "metadata": {
  "kernelspec": {
   "display_name": "rupsycho",
   "language": "python",
   "name": "python3"
  },
  "language_info": {
   "codemirror_mode": {
    "name": "ipython",
    "version": 3
   },
   "file_extension": ".py",
   "mimetype": "text/x-python",
   "name": "python",
   "nbconvert_exporter": "python",
   "pygments_lexer": "ipython3",
   "version": "3.10.8"
  }
 },
 "nbformat": 4,
 "nbformat_minor": 2
}
