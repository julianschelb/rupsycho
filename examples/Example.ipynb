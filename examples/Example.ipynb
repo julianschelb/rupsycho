{
 "cells": [
  {
   "cell_type": "markdown",
   "metadata": {},
   "source": [
    "# How to use RUPsycho"
   ]
  },
  {
   "cell_type": "markdown",
   "metadata": {},
   "source": [
    "Welcome to the introductory guide for the RUPsycho Python package. This guide aims to provide a comprehensive overview of RUPsycho, a new and innovative software tool developed for the application of large language models (LLMs) in social science research. The RUPsycho package is designed to facilitate the exploration of humanlike behaviors through LLMs, offering a unique perspective in the field of natural language processing (NLP).\n",
    "\n",
    "This guide will walk you through the various components and functionalities of RUPsycho. You will learn how to set up the package, navigate its testing environments, and effectively utilize its features for analyzing LLMs in the context of social science. The guide aims to equip researchers with the knowledge and skills required to leverage RUPsycho in their studies, contributing to a deeper understanding of the complex interplay between artificial intelligence and human psychology."
   ]
  },
  {
   "cell_type": "code",
   "execution_count": 1,
   "metadata": {},
   "outputs": [
    {
     "name": "stderr",
     "output_type": "stream",
     "text": [
      "/home/jschelb/.pyenv/versions/3.10.8/envs/rup/lib/python3.10/site-packages/torch/cuda/__init__.py:611: UserWarning: Can't initialize NVML\n",
      "  warnings.warn(\"Can't initialize NVML\")\n"
     ]
    }
   ],
   "source": [
    "import rupsycho as rup"
   ]
  },
  {
   "cell_type": "markdown",
   "metadata": {},
   "source": [
    "## Load Experiments"
   ]
  },
  {
   "cell_type": "markdown",
   "metadata": {},
   "source": [
    "### Load minimal Example"
   ]
  },
  {
   "cell_type": "code",
   "execution_count": 2,
   "metadata": {},
   "outputs": [],
   "source": [
    "# experiment = rup.example_experiment_bfi()\n",
    "# experiment.questionnaire.print_questionnaire()"
   ]
  },
  {
   "cell_type": "markdown",
   "metadata": {},
   "source": [
    "### Load Experiment from a Dictionary"
   ]
  },
  {
   "cell_type": "code",
   "execution_count": 3,
   "metadata": {},
   "outputs": [],
   "source": [
    "experiment_dict = {\n",
    "    \"name\": \"Generative Models for Big Five Inventory\",\n",
    "    \"description\": \"Description: Testing Generative Models for BFI questionnaire using Rupsycho.\",\n",
    "    \"demographic_profiles\": {\n",
    "        \"Profile 1\": {\n",
    "            \"attributes\": {\n",
    "                \"title\": \"Mr\",\n",
    "                \"name\": \"Grueber\"\n",
    "            },\n",
    "            \"template\": \"{title} {name}\"\n",
    "        }\n",
    "    },\n",
    "    \"questionnaire\": None\n",
    "}"
   ]
  },
  {
   "cell_type": "code",
   "execution_count": 4,
   "metadata": {},
   "outputs": [],
   "source": [
    "experiment = rup.experiment_from_dict(experiment_dict)"
   ]
  },
  {
   "cell_type": "markdown",
   "metadata": {},
   "source": [
    "### Set Questionnaires from a Dictionary"
   ]
  },
  {
   "cell_type": "code",
   "execution_count": 5,
   "metadata": {},
   "outputs": [],
   "source": [
    "experiment_dict = {\n",
    "    \"name\": \"BIG FIVE INVENTORY RESPONSE FORM AND INSTRUCTIONS TO PARTICIPANTS\",\n",
    "    \"general_instruction\": \"Here are a number of characteristics that may or may not apply to you. For example, do you agree that you are someone who likes to spend time with others? Please return the number corresponding to the answer options to indicate the extent to which you agree or disagree with that statement.\",\n",
    "    \"attributes\": {\n",
    "        \"dimension\": {\n",
    "            \"1\": \"Extraversion\",\n",
    "            \"2\": \"Agreeableness\",\n",
    "            \"3\": \"Conscientiousness\",\n",
    "            \"4\": \"Neuroticism\",\n",
    "            \"5\": \"Openness\"\n",
    "        }\n",
    "    },\n",
    "    \"default_answer_options\": {\n",
    "        \"1\": {\n",
    "            \"text\": \"1. Disagree strongly\",\n",
    "            \"ignored_for_scale\": False,\n",
    "            \"weight\": 1\n",
    "        },\n",
    "        \"2\": {\n",
    "            \"text\": \"2. Disagree a little\",\n",
    "            \"ignored_for_scale\": False,\n",
    "            \"weight\": 2\n",
    "        },\n",
    "        \"3\": {\n",
    "            \"text\": \"3. Neither agree nor disagree\",\n",
    "            \"ignored_for_scale\": False,\n",
    "            \"weight\": 3\n",
    "        },\n",
    "        \"4\": {\n",
    "            \"text\": \"4. Agree a little\",\n",
    "            \"ignored_for_scale\": False,\n",
    "            \"weight\": 4\n",
    "        },\n",
    "        \"5\": {\n",
    "            \"text\": \"5. Agree strongly\",\n",
    "            \"ignored_for_scale\": False,\n",
    "            \"weight\": 5\n",
    "        }\n",
    "    },\n",
    "    \"instruction_items\": [\n",
    "        {\n",
    "            \"question\": \"I see myself as someone who...\",\n",
    "            \"reversed\": False,\n",
    "            \"attributes\": {\n",
    "                \"dimension\": \"1\"\n",
    "            }\n",
    "        },\n",
    "        {\n",
    "            \"question\": \"Tends to find fault with others\",\n",
    "            \"reversed\": False,\n",
    "            \"attributes\": {\n",
    "                \"dimension\": \"1\"\n",
    "            }\n",
    "        },\n",
    "        {\n",
    "            \"question\": \"Does a thorough job\",\n",
    "            \"reversed\": False,\n",
    "            \"attributes\": {\n",
    "                \"dimension\": \"1\"\n",
    "            }\n",
    "        },\n",
    "        {\n",
    "            \"question\": \"Is depressed, blue\",\n",
    "            \"reversed\": False,\n",
    "            \"attributes\": {\n",
    "                \"dimension\": \"1\"\n",
    "            }\n",
    "        }\n",
    "    ]\n",
    "}\n"
   ]
  },
  {
   "cell_type": "markdown",
   "metadata": {},
   "source": [
    "### Load Experiment from a File"
   ]
  },
  {
   "cell_type": "code",
   "execution_count": 6,
   "metadata": {},
   "outputs": [],
   "source": [
    "# Load a single experiment\n",
    "file_path = \"./data/bfi_demo_config.json\"\n",
    "experiment = rup.experiment_from_file(file_path)\n",
    "\n",
    "# Load multiple experiments using a wildcard\n",
    "# file_path = \"./data/bfi_experiment_demo*.json\"\n",
    "# experiments = rup.experiments_from_files(file_path)\n",
    "# print(\"Number of experiments loaded: \", len(experiments))"
   ]
  },
  {
   "cell_type": "code",
   "execution_count": 7,
   "metadata": {},
   "outputs": [
    {
     "name": "stdout",
     "output_type": "stream",
     "text": [
      "Name: BIG FIVE INVENTORY RESPONSE FORM AND INSTRUCTIONS TO PARTICIPANTS\n",
      "\n",
      "General Instruction: Here are a number of characteristics that may or may not apply to you. For example, do you agree that you are someone who likes to spend time with others? Please return the number corresponding to the answer options to indicate the extent to which you agree or disagree with that statement.\n",
      "\n",
      "Demographic Profiles:\n",
      "- Ms Muller is 18 years old.\n",
      "\n",
      "Instruction Items:\n",
      "- Question: I see myself as someone who...\n",
      "- Question: Tends to find fault with others\n",
      "- Question: Does a thorough job\n",
      "- Question: Is depressed, blue\n"
     ]
    }
   ],
   "source": [
    "# Print the questionnaire of the first experiment\n",
    "experiment.questionnaire.print_questionnaire()"
   ]
  },
  {
   "cell_type": "code",
   "execution_count": 8,
   "metadata": {},
   "outputs": [
    {
     "data": {
      "text/plain": [
       "{'name': 'BIG FIVE INVENTORY RESPONSE FORM AND INSTRUCTIONS TO PARTICIPANTS',\n",
       " 'general_instruction': 'Here are a number of characteristics that may or may not apply to you. For example, do you agree that you are someone who likes to spend time with others? Please return the number corresponding to the answer options to indicate the extent to which you agree or disagree with that statement.',\n",
       " 'demographic_profiles': [{'attributes': {'age': 18,\n",
       "    'title': 'Ms',\n",
       "    'name': 'Muller'},\n",
       "   'template': '{title} {name} is {age} years old.'}],\n",
       " 'attributes': {'dimension': {'1': 'Extraversion',\n",
       "   '2': 'Agreeableness',\n",
       "   '3': 'Conscientiousness',\n",
       "   '4': 'Neuroticism',\n",
       "   '5': 'Openness'}},\n",
       " 'default_answer_options': {'1': {'text': '1. Disagree strongly',\n",
       "   'ignored_for_scale': False,\n",
       "   'weight': 1},\n",
       "  '2': {'text': '2. Disagree a little',\n",
       "   'ignored_for_scale': False,\n",
       "   'weight': 2},\n",
       "  '3': {'text': '3. Neither agree nor disagree',\n",
       "   'ignored_for_scale': False,\n",
       "   'weight': 3},\n",
       "  '4': {'text': '4. Agree a little', 'ignored_for_scale': False, 'weight': 4},\n",
       "  '5': {'text': '5. Agree strongly', 'ignored_for_scale': False, 'weight': 5}},\n",
       " 'instruction_items': [{'question': 'I see myself as someone who...',\n",
       "   'reversed': False,\n",
       "   'answer_options': None,\n",
       "   'attributes': {'dimension': '1'},\n",
       "   'answers': {}},\n",
       "  {'question': 'Tends to find fault with others',\n",
       "   'reversed': False,\n",
       "   'answer_options': None,\n",
       "   'attributes': {'dimension': '1'},\n",
       "   'answers': {}},\n",
       "  {'question': 'Does a thorough job',\n",
       "   'reversed': False,\n",
       "   'answer_options': None,\n",
       "   'attributes': {'dimension': '1'},\n",
       "   'answers': {}},\n",
       "  {'question': 'Is depressed, blue',\n",
       "   'reversed': False,\n",
       "   'answer_options': None,\n",
       "   'attributes': {'dimension': '1'},\n",
       "   'answers': {}}]}"
      ]
     },
     "execution_count": 8,
     "metadata": {},
     "output_type": "execute_result"
    }
   ],
   "source": [
    "experiment.questionnaire.model_dump()"
   ]
  },
  {
   "cell_type": "markdown",
   "metadata": {},
   "source": [
    "### Demographic Profiles"
   ]
  },
  {
   "cell_type": "code",
   "execution_count": 9,
   "metadata": {},
   "outputs": [
    {
     "name": "stdout",
     "output_type": "stream",
     "text": [
      "Number of demographic profiles:  2\n",
      "Template: {title} {name} is {age} years old and very open minded with a optimistic personality.\n",
      "Attributes: {'age': 18, 'title': 'Ms', 'name': 'Muller'}\n",
      "Complete Description of the Demo Profile: Ms Muller is 18 years old and very open minded with a optimistic personality.\n"
     ]
    }
   ],
   "source": [
    "print(\"Number of demographic profiles: \", len(experiment.demographic_profiles.values()))\n",
    "print(\"Template:\", list(experiment.demographic_profiles.values())[0].template)\n",
    "print(\"Attributes:\", list(experiment.demographic_profiles.values())[0].attributes.model_dump())\n",
    "print(\"Complete Description of the Demo Profile:\", list(experiment.demographic_profiles.values())[0])"
   ]
  },
  {
   "cell_type": "markdown",
   "metadata": {},
   "source": [
    "## Define Generative Models and Prompts"
   ]
  },
  {
   "cell_type": "markdown",
   "metadata": {},
   "source": [
    "### Define Parameters"
   ]
  },
  {
   "cell_type": "code",
   "execution_count": 10,
   "metadata": {},
   "outputs": [],
   "source": [
    "params = {\n",
    "    \"min_new_tokens\": 1, \n",
    "    \"max_new_tokens\": 64, \n",
    "    \"temperature\": 0.6, \n",
    "    \"do_sample\": True, \n",
    "}"
   ]
  },
  {
   "cell_type": "markdown",
   "metadata": {},
   "source": [
    "### Load Huggingface Model (local)"
   ]
  },
  {
   "cell_type": "code",
   "execution_count": 11,
   "metadata": {},
   "outputs": [],
   "source": [
    "from langchain_huggingface.llms import HuggingFacePipeline\n",
    "from transformers import AutoModelForSeq2SeqLM, AutoModelForCausalLM, AutoTokenizer, pipeline"
   ]
  },
  {
   "cell_type": "code",
   "execution_count": 12,
   "metadata": {},
   "outputs": [],
   "source": [
    "# #model_id = \"HuggingFaceH4/zephyr-7b-beta\"#,\"lmsys/vicuna-7b-v1.5\"#\"HuggingFaceTB/SmolLM-1.7b-Instruct\"\n",
    "# #tokenizer = AutoTokenizer.from_pretrained(model_id)\n",
    "# #model = AutoModelForCausalLM.from_pretrained(model_id)\n",
    "# #pipe = pipeline(\"text-generation\", model_id, **params, return_full_text = False, device_map = \"cuda\")\n",
    "# #model_local = HuggingFacePipeline(pipeline=pipe)\n",
    "\n",
    "# from transformers import AutoTokenizer, AutoModelForCausalLM, pipeline\n",
    "# from langchain.llms import HuggingFacePipeline\n",
    "\n",
    "# params = {\n",
    "#     \"min_new_tokens\": 1, \n",
    "#     \"max_new_tokens\": 64, \n",
    "#     \"temperature\": 0.6, \n",
    "#     \"do_sample\": True, \n",
    "# }\n",
    "\n",
    "# model_id = \"HuggingFaceH4/zephyr-7b-beta\"  # Replace with your desired model ID\n",
    "\n",
    "# # Load the tokenizer\n",
    "# tokenizer = AutoTokenizer.from_pretrained(model_id)\n",
    "\n",
    "# # Load the quantized model\n",
    "# model = AutoModelForCausalLM.from_pretrained(\n",
    "#     model_id,\n",
    "#     load_in_4bit=True,  # Load in 4-bit quantization\n",
    "#     device_map=\"auto\",  # Auto-distribute across available devices (GPU/CPU)\n",
    "# )\n",
    "\n",
    "# # Create a pipeline with the quantized model\n",
    "# pipe = pipeline(\n",
    "#     \"text-generation\", \n",
    "#     model=model, \n",
    "#     tokenizer=tokenizer, \n",
    "#     **params,\n",
    "#     return_full_text=False,\n",
    "#     #device=0  # Specify the device, 0 for the first GPU, or use device_map for auto allocation\n",
    "# )\n",
    "\n",
    "# # Initialize HuggingFacePipeline with the pipeline\n",
    "# model_local = HuggingFacePipeline(pipeline=pipe)"
   ]
  },
  {
   "cell_type": "code",
   "execution_count": 13,
   "metadata": {},
   "outputs": [
    {
     "name": "stderr",
     "output_type": "stream",
     "text": [
      "/home/jschelb/.pyenv/versions/3.10.8/envs/rup/lib/python3.10/site-packages/transformers/tokenization_utils_base.py:1601: FutureWarning: `clean_up_tokenization_spaces` was not set. It will be set to `True` by default. This behavior will be depracted in transformers v4.45, and will be then set to `False` by default. For more details check this issue: https://github.com/huggingface/transformers/issues/31884\n",
      "  warnings.warn(\n",
      "Hardware accelerator e.g. GPU is available in the environment, but no `device` argument is passed to the `Pipeline` object. Model will be on CPU.\n"
     ]
    }
   ],
   "source": [
    "model_id = \"google/flan-t5-small\"\n",
    "tokenizer = AutoTokenizer.from_pretrained(model_id)\n",
    "model = AutoModelForSeq2SeqLM.from_pretrained(model_id)\n",
    "pipe = pipeline(\"text2text-generation\", model=model, tokenizer=tokenizer, **params)\n",
    "model_local = HuggingFacePipeline(pipeline=pipe)\n"
   ]
  },
  {
   "cell_type": "code",
   "execution_count": 14,
   "metadata": {},
   "outputs": [],
   "source": [
    "# prompt_example = \"Once upon a time\"\n",
    "# print(\"Prompt length:\", model_local.get_num_tokens(prompt_example))\n",
    "# print(\"Prompt Token Ids:\", model_local.get_token_ids(prompt_example))\n",
    "# print(\"\\nAnswer:\", model_local.invoke(prompt_example))"
   ]
  },
  {
   "cell_type": "markdown",
   "metadata": {},
   "source": [
    "### Load Remote Model (Huggingface Endpoint)"
   ]
  },
  {
   "cell_type": "code",
   "execution_count": 17,
   "metadata": {},
   "outputs": [],
   "source": [
    "# # See https://python.langchain.com/v0.2/docs/integrations/llms/huggingface_endpoint/\n",
    "# from langchain_huggingface import HuggingFaceEndpoint\n",
    "\n",
    "# model_remote = HuggingFaceEndpoint(\n",
    "#     repo_id=\"HuggingFaceH4/zephyr-7b-beta\",\n",
    "#     task=\"text-generation\",\n",
    "#     huggingfacehub_api_token = \"\",\n",
    "#     **params,\n",
    "# )"
   ]
  },
  {
   "cell_type": "code",
   "execution_count": 18,
   "metadata": {},
   "outputs": [
    {
     "name": "stderr",
     "output_type": "stream",
     "text": [
      "/home/jschelb/.pyenv/versions/3.10.8/envs/rup/lib/python3.10/site-packages/transformers/tokenization_utils_base.py:1601: FutureWarning: `clean_up_tokenization_spaces` was not set. It will be set to `True` by default. This behavior will be depracted in transformers v4.45, and will be then set to `False` by default. For more details check this issue: https://github.com/huggingface/transformers/issues/31884\n",
      "  warnings.warn(\n"
     ]
    },
    {
     "name": "stdout",
     "output_type": "stream",
     "text": [
      "Prompt length: 4\n",
      "Prompt Token Ids: [7454, 2402, 257, 640]\n",
      "\n",
      "Answer: Upon a time, we shall see the opulent, wet and sappy, humming with a smile.\n"
     ]
    }
   ],
   "source": [
    "prompt_example = \"Once upon a time\"\n",
    "print(\"Prompt length:\", model_local.get_num_tokens(prompt_example))\n",
    "print(\"Prompt Token Ids:\", model_local.get_token_ids(prompt_example))\n",
    "print(\"\\nAnswer:\", model_local.invoke(prompt_example))"
   ]
  },
  {
   "cell_type": "markdown",
   "metadata": {},
   "source": [
    "### Load Ollama Model"
   ]
  },
  {
   "cell_type": "code",
   "execution_count": 19,
   "metadata": {},
   "outputs": [],
   "source": [
    "# ollama run gemma:2b"
   ]
  },
  {
   "cell_type": "code",
   "execution_count": 20,
   "metadata": {},
   "outputs": [],
   "source": [
    "# from langchain_ollama.llms import OllamaLLM"
   ]
  },
  {
   "cell_type": "code",
   "execution_count": 21,
   "metadata": {},
   "outputs": [],
   "source": [
    "# model_ollama = OllamaLLM(model=\"gemma2:2b\", **params)"
   ]
  },
  {
   "cell_type": "code",
   "execution_count": 22,
   "metadata": {},
   "outputs": [],
   "source": [
    "# prompt_example = \"Once upon a time\"\n",
    "# print(\"Prompt length:\", model_ollama.get_num_tokens(prompt_example))\n",
    "# print(\"Prompt Token Ids:\", model_ollama.get_token_ids(prompt_example))\n",
    "# print(\"\\nAnswer:\", model_ollama.invoke(prompt_example))"
   ]
  },
  {
   "cell_type": "markdown",
   "metadata": {},
   "source": [
    "### Load OpenAI Models"
   ]
  },
  {
   "cell_type": "code",
   "execution_count": 23,
   "metadata": {},
   "outputs": [],
   "source": [
    "# from langchain_openai import ChatOpenAI\n",
    "\n",
    "# model_openai = ChatOpenAI(\n",
    "#     model=\"gpt-4o\",\n",
    "#     temperature=0,\n",
    "#     max_tokens=None,\n",
    "#     timeout=None,\n",
    "#     max_retries=2,\n",
    "#     api_key=\"\",  # if you prefer to pass api key in directly instaed of using env vars\n",
    "#     # base_url=\"...\",\n",
    "#     # organization=\"...\",\n",
    "#     # other params...\n",
    "# )"
   ]
  },
  {
   "cell_type": "code",
   "execution_count": 24,
   "metadata": {},
   "outputs": [],
   "source": [
    "# prompt_example = \"Once upon a time\"\n",
    "# print(\"Prompt length:\", model_openai.get_num_tokens(prompt_example))\n",
    "# print(\"Prompt Token Ids:\", model_openai.get_token_ids(prompt_example))\n",
    "# print(\"\\nAnswer:\", model_openai.invoke(prompt_example))"
   ]
  },
  {
   "cell_type": "markdown",
   "metadata": {},
   "source": [
    "### Set Prompt Template"
   ]
  },
  {
   "cell_type": "code",
   "execution_count": 25,
   "metadata": {},
   "outputs": [],
   "source": [
    "from langchain_core.prompts import ChatPromptTemplate\n",
    "\n",
    "system_message_template = \"\"\"\n",
    "    Objective: \"{general_instruction}\"\n",
    "    Answer with respect to the following persona description and question.\n",
    "    \"\"\"\n",
    "    \n",
    "user_message_template= \"\"\" \n",
    "    Instructions: Choose from the list of answer options to answer the question. Answer the question using only the provided answer options. If none of the options are correct, choose the option that is closest to being correct. Return the number corresponding to the answer option and nothing else!\n",
    "    \n",
    "    Question:\n",
    "    {persona_description} was asked the following question. I see myself as someone who {question}\n",
    "\n",
    "    Answer Options: \n",
    "    {answer_options}\n",
    "    \n",
    "    Answer:\n",
    "    \"\"\"\n",
    "\n",
    "chat_prompt = ChatPromptTemplate.from_messages([\n",
    "    (\"system\", system_message_template),\n",
    "    (\"user\", user_message_template)\n",
    "])"
   ]
  },
  {
   "cell_type": "code",
   "execution_count": 26,
   "metadata": {},
   "outputs": [
    {
     "name": "stdout",
     "output_type": "stream",
     "text": [
      "messages=[SystemMessage(content='\\n    Objective: \"Please answer the following questions with respect to the persona described below.\"\\n    Answer with respect to the following persona description and question.\\n    '), HumanMessage(content=' \\n    Instructions: Choose from the list of answer options to answer the question. Answer the question using only the provided answer options. If none of the options are correct, choose the option that is closest to being correct. Return the number corresponding to the answer option and nothing else!\\n    \\n    Question:\\n    You as a 65 year conservative man work in a coal mine was asked the following question. I see myself as someone who What is your favorite color?\\n\\n    Answer Options: \\n    Red Blue Green Yellow Black White Brown\\n    \\n    Answer:\\n    ')]\n"
     ]
    }
   ],
   "source": [
    "example_instructions = {\n",
    "    \"general_instruction\": \"Please answer the following questions with respect to the persona described below.\",\n",
    "    \n",
    "    \"persona_description\": \"You as a 65 year conservative man work in a coal mine\",\n",
    "    \n",
    "    \"question\": \"What is your favorite color?\",\n",
    "    \"answer_options\": \" \".join([\"Red\", \"Blue\", \"Green\", \"Yellow\", \"Black\", \"White\", \"Brown\"])\n",
    "    \n",
    "}\n",
    "\n",
    "print(chat_prompt.invoke(example_instructions))"
   ]
  },
  {
   "cell_type": "code",
   "execution_count": 27,
   "metadata": {},
   "outputs": [],
   "source": [
    "# from langchain_core.load import dumpd, dumps, load, loads\n",
    "# dict_representation = dumpd(chat_prompt)\n",
    "# print(type(dict_representation))\n",
    "# prompt_2 = load(dict_representation) \n",
    "# print(dumps(chat_prompt, pretty=True))"
   ]
  },
  {
   "cell_type": "code",
   "execution_count": 28,
   "metadata": {},
   "outputs": [
    {
     "name": "stdout",
     "output_type": "stream",
     "text": [
      "\n",
      "Answer: 4\n"
     ]
    }
   ],
   "source": [
    "simple_chain = chat_prompt | model_local\n",
    "answer = simple_chain.invoke(example_instructions)\n",
    "print(\"\\nAnswer:\", answer)"
   ]
  },
  {
   "cell_type": "code",
   "execution_count": 29,
   "metadata": {},
   "outputs": [
    {
     "name": "stdout",
     "output_type": "stream",
     "text": [
      "messages=[SystemMessage(content='\\n    Objective: \"Please answer the following questions with respect to the persona described below.\"\\n    Answer with respect to the following persona description and question.\\n    '), HumanMessage(content=' \\n    Instructions: Choose from the list of answer options to answer the question. Answer the question using only the provided answer options. If none of the options are correct, choose the option that is closest to being correct. Return the number corresponding to the answer option and nothing else!\\n    \\n    Question:\\n    You as 18 year old student living in the city at the sea side, liking to go to the beach and party with friends, looking into the sky and dreaming about the future was asked the following question. I see myself as someone who What is your favorite color?\\n\\n    Answer Options: \\n    Red Blue Green Yellow\\n    \\n    Answer:\\n    ')]\n"
     ]
    }
   ],
   "source": [
    "example_instructions = {\n",
    "    \"general_instruction\": \"Please answer the following questions with respect to the persona described below.\",\n",
    "    \n",
    "    \"persona_description\": \"You as 18 year old student living in the city at the sea side, liking to go to the beach and party with friends, looking into the sky and dreaming about the future\",\n",
    "    \n",
    "    \"question\": \"What is your favorite color?\",\n",
    "    \"answer_options\": \" \".join([\"Red\", \"Blue\", \"Green\", \"Yellow\"])\n",
    "    \n",
    "}\n",
    "\n",
    "print(chat_prompt.invoke(example_instructions))"
   ]
  },
  {
   "cell_type": "code",
   "execution_count": 30,
   "metadata": {},
   "outputs": [
    {
     "name": "stdout",
     "output_type": "stream",
     "text": [
      "\n",
      "Answer: 5\n"
     ]
    }
   ],
   "source": [
    "answer = simple_chain.invoke(example_instructions)\n",
    "print(\"\\nAnswer:\", answer)"
   ]
  },
  {
   "cell_type": "markdown",
   "metadata": {},
   "source": [
    "### Define Output Parser"
   ]
  },
  {
   "cell_type": "code",
   "execution_count": 31,
   "metadata": {},
   "outputs": [],
   "source": [
    "from rupsycho.parser import BasicParser \n",
    "basic_parser = BasicParser()"
   ]
  },
  {
   "cell_type": "code",
   "execution_count": 32,
   "metadata": {},
   "outputs": [
    {
     "name": "stdout",
     "output_type": "stream",
     "text": [
      "\n",
      "Answer: 3\n"
     ]
    }
   ],
   "source": [
    "simple_chain = chat_prompt | model_local | basic_parser\n",
    "answer = simple_chain.invoke(example_instructions)\n",
    "print(\"\\nAnswer:\", answer)"
   ]
  },
  {
   "cell_type": "markdown",
   "metadata": {},
   "source": [
    "## Run Experiment"
   ]
  },
  {
   "cell_type": "markdown",
   "metadata": {},
   "source": [
    "### Single Experiment"
   ]
  },
  {
   "cell_type": "code",
   "execution_count": 33,
   "metadata": {},
   "outputs": [
    {
     "data": {
      "text/plain": [
       "{'default_model': LocalHuggingFaceModelConfig(type='local_huggingface', hf_model_name_or_path='HuggingFaceTB/SmolLM-135M-Instruct', revision=None, tokenizer_name=None, cache_dir=None, use_auth_token=False, device='cpu', pipeline_type='text-generation')}"
      ]
     },
     "execution_count": 33,
     "metadata": {},
     "output_type": "execute_result"
    }
   ],
   "source": [
    "experiment.models"
   ]
  },
  {
   "cell_type": "code",
   "execution_count": 34,
   "metadata": {},
   "outputs": [],
   "source": [
    "## Register Models\n",
    "#experiment.add_model(model_local)\n",
    "experiment.add_model(model_local)\n",
    "\n",
    "# Register the prompt template\n",
    "experiment.set_prompt(chat_prompt)\n",
    "\n",
    "# Set the parser\n",
    "experiment.set_parser(basic_parser)"
   ]
  },
  {
   "cell_type": "code",
   "execution_count": 35,
   "metadata": {},
   "outputs": [
    {
     "data": {
      "text/plain": [
       "['default_model', '140223432922624']"
      ]
     },
     "execution_count": 35,
     "metadata": {},
     "output_type": "execute_result"
    }
   ],
   "source": [
    "experiment.list_models()"
   ]
  },
  {
   "cell_type": "code",
   "execution_count": 36,
   "metadata": {},
   "outputs": [
    {
     "data": {
      "text/plain": [
       "'System: Objective: \"Please answer the following questions with respect to the persona described below.\" Answer with respect to the following persona description and question. Human: Instructions: Choose from the list of answer options to answer the question. Answer the question using only the provided answer options. If none of the options are correct, choose the option that is closest to being correct. Return the number corresponding to the answer option and nothing else! Question: You as 18 year old student living in the city at the sea side, liking to go to the beach and party with friends, looking into the sky and dreaming about the future was asked the following question. I see myself as someone who What is your favorite color? Answer Options: Red Blue Green Yellow Answer: Human: Instructions: Choose from the list of answer options to answer the question. Answer the question using only the provided answer options. If none of the options are correct, choose the option'"
      ]
     },
     "execution_count": 36,
     "metadata": {},
     "output_type": "execute_result"
    }
   ],
   "source": [
    "# Test the chain with first model in the list\n",
    "runnable_chain = experiment.create_chain(model_key=experiment.list_models()[0])\n",
    "runnable_chain.invoke(example_instructions)"
   ]
  },
  {
   "cell_type": "code",
   "execution_count": 37,
   "metadata": {},
   "outputs": [
    {
     "data": {
      "application/vnd.jupyter.widget-view+json": {
       "model_id": "41dd30750a27491292169d038ae558ac",
       "version_major": 2,
       "version_minor": 0
      },
      "text/plain": [
       "Generative Models for Big Five Inventory:   0%|          | 0/16 [00:00<?, ? prompts/s]"
      ]
     },
     "metadata": {},
     "output_type": "display_data"
    }
   ],
   "source": [
    "# Run the experiment\n",
    "experiment.run()"
   ]
  },
  {
   "cell_type": "code",
   "execution_count": 38,
   "metadata": {},
   "outputs": [
    {
     "data": {
      "text/plain": [
       "'3'"
      ]
     },
     "execution_count": 38,
     "metadata": {},
     "output_type": "execute_result"
    }
   ],
   "source": [
    "from langchain_core.output_parsers import StrOutputParser\n",
    "parser = StrOutputParser()\n",
    "parser.invoke(answer)\n",
    "\n",
    "from rupsycho.parser import BasicParser \n",
    "basic_parser = BasicParser()\n",
    "basic_parser.invoke(answer)"
   ]
  },
  {
   "cell_type": "code",
   "execution_count": 39,
   "metadata": {},
   "outputs": [],
   "source": [
    "# from langchain_core.load import dumpd, dumps, load, loads\n",
    "# runnable_object = basic_parser\n",
    "# dict_representation = dumpd(runnable_object)\n",
    "# print(type(dict_representation))\n",
    "# restored_object = load(dict_representation) \n",
    "# print(dumps(runnable_object, pretty=True))"
   ]
  },
  {
   "cell_type": "markdown",
   "metadata": {},
   "source": [
    "### Multiple Experiments"
   ]
  },
  {
   "cell_type": "code",
   "execution_count": 40,
   "metadata": {},
   "outputs": [
    {
     "name": "stdout",
     "output_type": "stream",
     "text": [
      "Experiments in collection: 2\n"
     ]
    }
   ],
   "source": [
    "from rupsycho.experiment_collection import ExperimentCollection\n",
    "\n",
    "experiment_collection = ExperimentCollection([experiment, experiment])\n",
    "\n",
    "print(\"Experiments in collection:\", len(experiment_collection))\n",
    "\n",
    "## Set the prompt for all experiments\n",
    "# experiment_collection.set_prompt(chat_prompt)\n",
    "\n",
    "## Set the models for all experiments\n",
    "# experiment_collection.add_model(model_local)\n",
    "\n",
    "## Run multiple experiments\n",
    "#experiment_collection.run_all()"
   ]
  },
  {
   "cell_type": "markdown",
   "metadata": {},
   "source": [
    "## Save Results"
   ]
  },
  {
   "cell_type": "code",
   "execution_count": 41,
   "metadata": {},
   "outputs": [
    {
     "name": "stderr",
     "output_type": "stream",
     "text": [
      "/home/jschelb/.pyenv/versions/3.10.8/envs/rup/lib/python3.10/site-packages/pydantic/main.py:364: UserWarning: Pydantic serializer warnings:\n",
      "  Expected `int` but got `str` - serialized value may not be as expected\n",
      "  Expected `int` but got `str` - serialized value may not be as expected\n",
      "  Expected `int` but got `str` - serialized value may not be as expected\n",
      "  Expected `int` but got `str` - serialized value may not be as expected\n",
      "  Expected `int` but got `str` - serialized value may not be as expected\n",
      "  Expected `int` but got `str` - serialized value may not be as expected\n",
      "  Expected `int` but got `str` - serialized value may not be as expected\n",
      "  Expected `int` but got `str` - serialized value may not be as expected\n",
      "  Expected `int` but got `str` - serialized value may not be as expected\n",
      "  Expected `int` but got `str` - serialized value may not be as expected\n",
      "  return self.__pydantic_serializer__.to_python(\n"
     ]
    },
    {
     "data": {
      "text/plain": [
       "[{'default_model': {'Optimistic Persona': {'7': 'System: Objective: \"Here are a number of characteristics that may or may not apply to you. For example, do you agree that you are someone who likes to spend time with others? Please return the number corresponding to the answer options to indicate the extent to which you agree or disagree with that statement.\" Answer with respect to the following persona description and question. Human: Instructions: Choose from the list of answer options to answer the question. Answer the question using only the provided answer options. If none of the options are correct, choose the option that is closest to being correct. Return the number corresponding to the answer option and nothing else! Question: Ms Muller is 18 years old and very open minded with a optimistic personality. was asked the following question. I see myself as someone who I see myself as someone who... Answer Options: 1. Disagree strongly 2. Disagree a little 3. Neither agree nor disagree 4. Agree a little 5. Agree strongly Answer: 6. Disagree strongly 7. Disagree a little 8. Neither agree nor disagree 9. Agree strongly 10. Agree a little 11. Agree a little 1'},\n",
       "   'Conservative Persona': {'7': 'System: Objective: \"Here are a number of characteristics that may or may not apply to you. For example, do you agree that you are someone who likes to spend time with others? Please return the number corresponding to the answer options to indicate the extent to which you agree or disagree with that statement.\" Answer with respect to the following persona description and question. Human: Instructions: Choose from the list of answer options to answer the question. Answer the question using only the provided answer options. If none of the options are correct, choose the option that is closest to being correct. Return the number corresponding to the answer option and nothing else! Question: Mr Grueber is 65 years old and very conservative with a reserved personality. was asked the following question. I see myself as someone who I see myself as someone who... Answer Options: 1. Disagree strongly 2. Disagree a little 3. Neither agree nor disagree 4. Agree a little 5. Agree strongly Answer: 6. Disagree strongly 7. Disagree a little 8. Neither agree nor disagree 9. Agree strongly Answer: 10. Agree strongly 11. Agree a little'}},\n",
       "  '140223432922624': {'Optimistic Persona': {'7': '5.'},\n",
       "   'Conservative Persona': {'7': '5.'}}},\n",
       " {'default_model': {'Optimistic Persona': {'7': 'System: Objective: \"Here are a number of characteristics that may or may not apply to you. For example, do you agree that you are someone who likes to spend time with others? Please return the number corresponding to the answer options to indicate the extent to which you agree or disagree with that statement.\" Answer with respect to the following persona description and question. Human: Instructions: Choose from the list of answer options to answer the question. Answer the question using only the provided answer options. If none of the options are correct, choose the option that is closest to being correct. Return the number corresponding to the answer option and nothing else! Question: Ms Muller is 18 years old and very open minded with a optimistic personality. was asked the following question. I see myself as someone who Tends to find fault with others Answer Options: 1. Disagree strongly 2. Disagree a little 3. Neither agree nor disagree 4. Agree a little 5. Agree strongly Answer: 6. Disagree strongly 7. Disagree a little 8. Neither agree nor disagree 9. Agree a little 10. Agree strongly Human: Instructions: Choose'},\n",
       "   'Conservative Persona': {'7': 'System: Objective: \"Here are a number of characteristics that may or may not apply to you. For example, do you agree that you are someone who likes to spend time with others? Please return the number corresponding to the answer options to indicate the extent to which you agree or disagree with that statement.\" Answer with respect to the following persona description and question. Human: Instructions: Choose from the list of answer options to answer the question. Answer the question using only the provided answer options. If none of the options are correct, choose the option that is closest to being correct. Return the number corresponding to the answer option and nothing else! Question: Mr Grueber is 65 years old and very conservative with a reserved personality. was asked the following question. I see myself as someone who Tends to find fault with others Answer Options: 1. Disagree strongly 2. Disagree a little 3. Neither agree nor disagree 4. Agree a little 5. Agree strongly Answer: 6. Disagree strongly 7. Disagree a little 8. Neither agree nor disagree 9. Agree a little 10. Agree strongly Human: Instructions: Choose'}},\n",
       "  '140223432922624': {'Optimistic Persona': {'7': '5'},\n",
       "   'Conservative Persona': {'7': '5.'}}},\n",
       " {'default_model': {'Optimistic Persona': {'7': 'System: Objective: \"Here are a number of characteristics that may or may not apply to you. For example, do you agree that you are someone who likes to spend time with others? Please return the number corresponding to the answer options to indicate the extent to which you agree or disagree with that statement.\" Answer with respect to the following persona description and question. Human: Instructions: Choose from the list of answer options to answer the question. Answer the question using only the provided answer options. If none of the options are correct, choose the option that is closest to being correct. Return the number corresponding to the answer option and nothing else! Question: Ms Muller is 18 years old and very open minded with a optimistic personality. was asked the following question. I see myself as someone who Does a thorough job Answer Options: 1. Disagree strongly 2. Disagree a little 3. Neither agree nor disagree 4. Agree a little 5. Agree strongly Answer: 6. Disagree strongly 7. Disagree a little 8. Neither agree nor disagree 9. Agree a little 10. Agree strongly Human: Instructions: Choose'},\n",
       "   'Conservative Persona': {'7': 'System: Objective: \"Here are a number of characteristics that may or may not apply to you. For example, do you agree that you are someone who likes to spend time with others? Please return the number corresponding to the answer options to indicate the extent to which you agree or disagree with that statement.\" Answer with respect to the following persona description and question. Human: Instructions: Choose from the list of answer options to answer the question. Answer the question using only the provided answer options. If none of the options are correct, choose the option that is closest to being correct. Return the number corresponding to the answer option and nothing else! Question: Mr Grueber is 65 years old and very conservative with a reserved personality. was asked the following question. I see myself as someone who Does a thorough job Answer Options: 1. Disagree strongly 2. Disagree a little 3. Neither agree nor disagree 4. Agree a little 5. Agree strongly Answer: 6. Disagree strongly 7. Disagree a little 8. Neither agree nor disagree 9. Agree strongly Answer: 10. Agree strongly 11. Agree a little'}},\n",
       "  '140223432922624': {'Optimistic Persona': {'7': '3'},\n",
       "   'Conservative Persona': {'7': '5'}}},\n",
       " {'default_model': {'Optimistic Persona': {'7': 'System: Objective: \"Here are a number of characteristics that may or may not apply to you. For example, do you agree that you are someone who likes to spend time with others? Please return the number corresponding to the answer options to indicate the extent to which you agree or disagree with that statement.\" Answer with respect to the following persona description and question. Human: Instructions: Choose from the list of answer options to answer the question. Answer the question using only the provided answer options. If none of the options are correct, choose the option that is closest to being correct. Return the number corresponding to the answer option and nothing else! Question: Ms Muller is 18 years old and very open minded with a optimistic personality. was asked the following question. I see myself as someone who Is depressed, blue Answer Options: 1. Disagree strongly 2. Disagree a little 3. Neither agree nor disagree 4. Agree a little 5. Agree strongly Answer: 6. Disagree strongly 7. Disagree a little 8. Neither agree nor disagree 9. Agree a little 10. Agree strongly Human: Instructions: Choose'},\n",
       "   'Conservative Persona': {'7': 'System: Objective: \"Here are a number of characteristics that may or may not apply to you. For example, do you agree that you are someone who likes to spend time with others? Please return the number corresponding to the answer options to indicate the extent to which you agree or disagree with that statement.\" Answer with respect to the following persona description and question. Human: Instructions: Choose from the list of answer options to answer the question. Answer the question using only the provided answer options. If none of the options are correct, choose the option that is closest to being correct. Return the number corresponding to the answer option and nothing else! Question: Mr Grueber is 65 years old and very conservative with a reserved personality. was asked the following question. I see myself as someone who Is depressed, blue Answer Options: 1. Disagree strongly 2. Disagree a little 3. Neither agree nor disagree 4. Agree a little 5. Agree strongly Answer: 6. Disagree strongly 7. Disagree a little 8. Neither agree nor disagree 9. Agree a little 10. Agree strongly Human: Instructions: Choose'}},\n",
       "  '140223432922624': {'Optimistic Persona': {'7': '4'},\n",
       "   'Conservative Persona': {'7': '4'}}}]"
      ]
     },
     "execution_count": 41,
     "metadata": {},
     "output_type": "execute_result"
    }
   ],
   "source": [
    "## Export Resuts\n",
    "experiment.get_answers()[:5]"
   ]
  },
  {
   "cell_type": "code",
   "execution_count": 42,
   "metadata": {},
   "outputs": [
    {
     "data": {
      "text/plain": [
       "InstructionItem(question='I see myself as someone who...', reversed=False, answer_options=None, attributes={'dimension': '1'}, answers=defaultdict(<function InstructionItem.<lambda>.<locals>.<lambda> at 0x7f88432d4670>, {'default_model': defaultdict(<function InstructionItem.<lambda>.<locals>.<lambda>.<locals>.<lambda> at 0x7f8838e8ed40>, {'Optimistic Persona': defaultdict(<class 'dict'>, {'7': 'System: Objective: \"Here are a number of characteristics that may or may not apply to you. For example, do you agree that you are someone who likes to spend time with others? Please return the number corresponding to the answer options to indicate the extent to which you agree or disagree with that statement.\" Answer with respect to the following persona description and question. Human: Instructions: Choose from the list of answer options to answer the question. Answer the question using only the provided answer options. If none of the options are correct, choose the option that is closest to being correct. Return the number corresponding to the answer option and nothing else! Question: Ms Muller is 18 years old and very open minded with a optimistic personality. was asked the following question. I see myself as someone who I see myself as someone who... Answer Options: 1. Disagree strongly 2. Disagree a little 3. Neither agree nor disagree 4. Agree a little 5. Agree strongly Answer: 6. Disagree strongly 7. Disagree a little 8. Neither agree nor disagree 9. Agree strongly 10. Agree a little 11. Agree a little 1'}), 'Conservative Persona': defaultdict(<class 'dict'>, {'7': 'System: Objective: \"Here are a number of characteristics that may or may not apply to you. For example, do you agree that you are someone who likes to spend time with others? Please return the number corresponding to the answer options to indicate the extent to which you agree or disagree with that statement.\" Answer with respect to the following persona description and question. Human: Instructions: Choose from the list of answer options to answer the question. Answer the question using only the provided answer options. If none of the options are correct, choose the option that is closest to being correct. Return the number corresponding to the answer option and nothing else! Question: Mr Grueber is 65 years old and very conservative with a reserved personality. was asked the following question. I see myself as someone who I see myself as someone who... Answer Options: 1. Disagree strongly 2. Disagree a little 3. Neither agree nor disagree 4. Agree a little 5. Agree strongly Answer: 6. Disagree strongly 7. Disagree a little 8. Neither agree nor disagree 9. Agree strongly Answer: 10. Agree strongly 11. Agree a little'})}), '140223432922624': defaultdict(<function InstructionItem.<lambda>.<locals>.<lambda>.<locals>.<lambda> at 0x7f8838e8f1c0>, {'Optimistic Persona': defaultdict(<class 'dict'>, {'7': '5.'}), 'Conservative Persona': defaultdict(<class 'dict'>, {'7': '5.'})})}))"
      ]
     },
     "execution_count": 42,
     "metadata": {},
     "output_type": "execute_result"
    }
   ],
   "source": [
    "experiment.questionnaire.instruction_items[0]"
   ]
  },
  {
   "cell_type": "code",
   "execution_count": 43,
   "metadata": {},
   "outputs": [
    {
     "data": {
      "text/html": [
       "<div>\n",
       "<style scoped>\n",
       "    .dataframe tbody tr th:only-of-type {\n",
       "        vertical-align: middle;\n",
       "    }\n",
       "\n",
       "    .dataframe tbody tr th {\n",
       "        vertical-align: top;\n",
       "    }\n",
       "\n",
       "    .dataframe thead th {\n",
       "        text-align: right;\n",
       "    }\n",
       "</style>\n",
       "<table border=\"1\" class=\"dataframe\">\n",
       "  <thead>\n",
       "    <tr style=\"text-align: right;\">\n",
       "      <th></th>\n",
       "      <th>Instruction ID</th>\n",
       "      <th>Instruction Question</th>\n",
       "      <th>Model ID</th>\n",
       "      <th>Persona ID</th>\n",
       "      <th>Run Seed</th>\n",
       "      <th>Answer</th>\n",
       "    </tr>\n",
       "  </thead>\n",
       "  <tbody>\n",
       "    <tr>\n",
       "      <th>0</th>\n",
       "      <td>0</td>\n",
       "      <td>I see myself as someone who...</td>\n",
       "      <td>default_model</td>\n",
       "      <td>Optimistic Persona</td>\n",
       "      <td>7</td>\n",
       "      <td>System: Objective: \"Here are a number of chara...</td>\n",
       "    </tr>\n",
       "    <tr>\n",
       "      <th>1</th>\n",
       "      <td>0</td>\n",
       "      <td>I see myself as someone who...</td>\n",
       "      <td>default_model</td>\n",
       "      <td>Conservative Persona</td>\n",
       "      <td>7</td>\n",
       "      <td>System: Objective: \"Here are a number of chara...</td>\n",
       "    </tr>\n",
       "    <tr>\n",
       "      <th>2</th>\n",
       "      <td>0</td>\n",
       "      <td>I see myself as someone who...</td>\n",
       "      <td>140223432922624</td>\n",
       "      <td>Optimistic Persona</td>\n",
       "      <td>7</td>\n",
       "      <td>5.</td>\n",
       "    </tr>\n",
       "    <tr>\n",
       "      <th>3</th>\n",
       "      <td>0</td>\n",
       "      <td>I see myself as someone who...</td>\n",
       "      <td>140223432922624</td>\n",
       "      <td>Conservative Persona</td>\n",
       "      <td>7</td>\n",
       "      <td>5.</td>\n",
       "    </tr>\n",
       "    <tr>\n",
       "      <th>4</th>\n",
       "      <td>1</td>\n",
       "      <td>Tends to find fault with others</td>\n",
       "      <td>default_model</td>\n",
       "      <td>Optimistic Persona</td>\n",
       "      <td>7</td>\n",
       "      <td>System: Objective: \"Here are a number of chara...</td>\n",
       "    </tr>\n",
       "    <tr>\n",
       "      <th>5</th>\n",
       "      <td>1</td>\n",
       "      <td>Tends to find fault with others</td>\n",
       "      <td>default_model</td>\n",
       "      <td>Conservative Persona</td>\n",
       "      <td>7</td>\n",
       "      <td>System: Objective: \"Here are a number of chara...</td>\n",
       "    </tr>\n",
       "    <tr>\n",
       "      <th>6</th>\n",
       "      <td>1</td>\n",
       "      <td>Tends to find fault with others</td>\n",
       "      <td>140223432922624</td>\n",
       "      <td>Optimistic Persona</td>\n",
       "      <td>7</td>\n",
       "      <td>5</td>\n",
       "    </tr>\n",
       "    <tr>\n",
       "      <th>7</th>\n",
       "      <td>1</td>\n",
       "      <td>Tends to find fault with others</td>\n",
       "      <td>140223432922624</td>\n",
       "      <td>Conservative Persona</td>\n",
       "      <td>7</td>\n",
       "      <td>5.</td>\n",
       "    </tr>\n",
       "    <tr>\n",
       "      <th>8</th>\n",
       "      <td>2</td>\n",
       "      <td>Does a thorough job</td>\n",
       "      <td>default_model</td>\n",
       "      <td>Optimistic Persona</td>\n",
       "      <td>7</td>\n",
       "      <td>System: Objective: \"Here are a number of chara...</td>\n",
       "    </tr>\n",
       "    <tr>\n",
       "      <th>9</th>\n",
       "      <td>2</td>\n",
       "      <td>Does a thorough job</td>\n",
       "      <td>default_model</td>\n",
       "      <td>Conservative Persona</td>\n",
       "      <td>7</td>\n",
       "      <td>System: Objective: \"Here are a number of chara...</td>\n",
       "    </tr>\n",
       "    <tr>\n",
       "      <th>10</th>\n",
       "      <td>2</td>\n",
       "      <td>Does a thorough job</td>\n",
       "      <td>140223432922624</td>\n",
       "      <td>Optimistic Persona</td>\n",
       "      <td>7</td>\n",
       "      <td>3</td>\n",
       "    </tr>\n",
       "    <tr>\n",
       "      <th>11</th>\n",
       "      <td>2</td>\n",
       "      <td>Does a thorough job</td>\n",
       "      <td>140223432922624</td>\n",
       "      <td>Conservative Persona</td>\n",
       "      <td>7</td>\n",
       "      <td>5</td>\n",
       "    </tr>\n",
       "    <tr>\n",
       "      <th>12</th>\n",
       "      <td>3</td>\n",
       "      <td>Is depressed, blue</td>\n",
       "      <td>default_model</td>\n",
       "      <td>Optimistic Persona</td>\n",
       "      <td>7</td>\n",
       "      <td>System: Objective: \"Here are a number of chara...</td>\n",
       "    </tr>\n",
       "    <tr>\n",
       "      <th>13</th>\n",
       "      <td>3</td>\n",
       "      <td>Is depressed, blue</td>\n",
       "      <td>default_model</td>\n",
       "      <td>Conservative Persona</td>\n",
       "      <td>7</td>\n",
       "      <td>System: Objective: \"Here are a number of chara...</td>\n",
       "    </tr>\n",
       "    <tr>\n",
       "      <th>14</th>\n",
       "      <td>3</td>\n",
       "      <td>Is depressed, blue</td>\n",
       "      <td>140223432922624</td>\n",
       "      <td>Optimistic Persona</td>\n",
       "      <td>7</td>\n",
       "      <td>4</td>\n",
       "    </tr>\n",
       "    <tr>\n",
       "      <th>15</th>\n",
       "      <td>3</td>\n",
       "      <td>Is depressed, blue</td>\n",
       "      <td>140223432922624</td>\n",
       "      <td>Conservative Persona</td>\n",
       "      <td>7</td>\n",
       "      <td>4</td>\n",
       "    </tr>\n",
       "  </tbody>\n",
       "</table>\n",
       "</div>"
      ],
      "text/plain": [
       "    Instruction ID             Instruction Question         Model ID  \\\n",
       "0                0   I see myself as someone who...    default_model   \n",
       "1                0   I see myself as someone who...    default_model   \n",
       "2                0   I see myself as someone who...  140223432922624   \n",
       "3                0   I see myself as someone who...  140223432922624   \n",
       "4                1  Tends to find fault with others    default_model   \n",
       "5                1  Tends to find fault with others    default_model   \n",
       "6                1  Tends to find fault with others  140223432922624   \n",
       "7                1  Tends to find fault with others  140223432922624   \n",
       "8                2              Does a thorough job    default_model   \n",
       "9                2              Does a thorough job    default_model   \n",
       "10               2              Does a thorough job  140223432922624   \n",
       "11               2              Does a thorough job  140223432922624   \n",
       "12               3               Is depressed, blue    default_model   \n",
       "13               3               Is depressed, blue    default_model   \n",
       "14               3               Is depressed, blue  140223432922624   \n",
       "15               3               Is depressed, blue  140223432922624   \n",
       "\n",
       "              Persona ID Run Seed  \\\n",
       "0     Optimistic Persona        7   \n",
       "1   Conservative Persona        7   \n",
       "2     Optimistic Persona        7   \n",
       "3   Conservative Persona        7   \n",
       "4     Optimistic Persona        7   \n",
       "5   Conservative Persona        7   \n",
       "6     Optimistic Persona        7   \n",
       "7   Conservative Persona        7   \n",
       "8     Optimistic Persona        7   \n",
       "9   Conservative Persona        7   \n",
       "10    Optimistic Persona        7   \n",
       "11  Conservative Persona        7   \n",
       "12    Optimistic Persona        7   \n",
       "13  Conservative Persona        7   \n",
       "14    Optimistic Persona        7   \n",
       "15  Conservative Persona        7   \n",
       "\n",
       "                                               Answer  \n",
       "0   System: Objective: \"Here are a number of chara...  \n",
       "1   System: Objective: \"Here are a number of chara...  \n",
       "2                                                  5.  \n",
       "3                                                  5.  \n",
       "4   System: Objective: \"Here are a number of chara...  \n",
       "5   System: Objective: \"Here are a number of chara...  \n",
       "6                                                   5  \n",
       "7                                                  5.  \n",
       "8   System: Objective: \"Here are a number of chara...  \n",
       "9   System: Objective: \"Here are a number of chara...  \n",
       "10                                                  3  \n",
       "11                                                  5  \n",
       "12  System: Objective: \"Here are a number of chara...  \n",
       "13  System: Objective: \"Here are a number of chara...  \n",
       "14                                                  4  \n",
       "15                                                  4  "
      ]
     },
     "execution_count": 43,
     "metadata": {},
     "output_type": "execute_result"
    }
   ],
   "source": [
    "experiment.get_answers_as_dataframe().head(100)"
   ]
  },
  {
   "cell_type": "code",
   "execution_count": 45,
   "metadata": {},
   "outputs": [
    {
     "name": "stderr",
     "output_type": "stream",
     "text": [
      "/home/jschelb/.pyenv/versions/3.10.8/envs/rup/lib/python3.10/site-packages/pydantic/main.py:364: UserWarning: Pydantic serializer warnings:\n",
      "  Expected `int` but got `str` - serialized value may not be as expected\n",
      "  Expected `int` but got `str` - serialized value may not be as expected\n",
      "  Expected `int` but got `str` - serialized value may not be as expected\n",
      "  Expected `int` but got `str` - serialized value may not be as expected\n",
      "  Expected `int` but got `str` - serialized value may not be as expected\n",
      "  Expected `int` but got `str` - serialized value may not be as expected\n",
      "  Expected `int` but got `str` - serialized value may not be as expected\n",
      "  Expected `int` but got `str` - serialized value may not be as expected\n",
      "  Expected `int` but got `str` - serialized value may not be as expected\n",
      "  Expected `int` but got `str` - serialized value may not be as expected\n",
      "  Expected `int` but got `str` - serialized value may not be as expected\n",
      "  Expected `int` but got `str` - serialized value may not be as expected\n",
      "  Expected `int` but got `str` - serialized value may not be as expected\n",
      "  Expected `int` but got `str` - serialized value may not be as expected\n",
      "  Expected `int` but got `str` - serialized value may not be as expected\n",
      "  Expected `int` but got `str` - serialized value may not be as expected\n",
      "  Expected `int` but got `str` - serialized value may not be as expected\n",
      "  Expected `int` but got `str` - serialized value may not be as expected\n",
      "  Expected `int` but got `str` - serialized value may not be as expected\n",
      "  Expected `int` but got `str` - serialized value may not be as expected\n",
      "  Expected `int` but got `str` - serialized value may not be as expected\n",
      "  Expected `int` but got `str` - serialized value may not be as expected\n",
      "  Expected `int` but got `str` - serialized value may not be as expected\n",
      "  Expected `int` but got `str` - serialized value may not be as expected\n",
      "  Expected `int` but got `str` - serialized value may not be as expected\n",
      "  Expected `int` but got `str` - serialized value may not be as expected\n",
      "  Expected `int` but got `str` - serialized value may not be as expected\n",
      "  Expected `int` but got `str` - serialized value may not be as expected\n",
      "  Expected `int` but got `str` - serialized value may not be as expected\n",
      "  Expected `int` but got `str` - serialized value may not be as expected\n",
      "  Expected `int` but got `str` - serialized value may not be as expected\n",
      "  Expected `int` but got `str` - serialized value may not be as expected\n",
      "  Expected `int` but got `str` - serialized value may not be as expected\n",
      "  Expected `int` but got `str` - serialized value may not be as expected\n",
      "  Expected `int` but got `str` - serialized value may not be as expected\n",
      "  Expected `int` but got `str` - serialized value may not be as expected\n",
      "  Expected `int` but got `str` - serialized value may not be as expected\n",
      "  Expected `int` but got `str` - serialized value may not be as expected\n",
      "  Expected `int` but got `str` - serialized value may not be as expected\n",
      "  Expected `int` but got `str` - serialized value may not be as expected\n",
      "  return self.__pydantic_serializer__.to_python(\n"
     ]
    }
   ],
   "source": [
    "# Write the results to a file\n",
    "file_path_out = \"data/bfi_experiment_results_demo_2.json\"\n",
    "experiment.export_to_file(file_path_out)"
   ]
  }
 ],
 "metadata": {
  "kernelspec": {
   "display_name": "rupsycho",
   "language": "python",
   "name": "python3"
  },
  "language_info": {
   "codemirror_mode": {
    "name": "ipython",
    "version": 3
   },
   "file_extension": ".py",
   "mimetype": "text/x-python",
   "name": "python",
   "nbconvert_exporter": "python",
   "pygments_lexer": "ipython3",
   "version": "3.10.8"
  }
 },
 "nbformat": 4,
 "nbformat_minor": 2
}
