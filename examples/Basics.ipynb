{
 "cells": [
  {
   "cell_type": "markdown",
   "metadata": {},
   "source": [
    "# How to use RUPsycho"
   ]
  },
  {
   "cell_type": "markdown",
   "metadata": {},
   "source": [
    "Welcome to the introductory guide for the RUPsycho Python package. This guide aims to provide a comprehensive overview of RUPsycho, a new and innovative software tool developed for the application of large language models (LLMs) in social science research. The RUPsycho package is designed to facilitate the exploration of humanlike behaviors through LLMs, offering a unique perspective in the field of natural language processing (NLP).\n",
    "\n",
    "This guide will walk you through the various components and functionalities of RUPsycho. You will learn how to set up the package, navigate its testing environments, and effectively utilize its features for analyzing LLMs in the context of social science. The guide aims to equip researchers with the knowledge and skills required to leverage RUPsycho in their studies, contributing to a deeper understanding of the complex interplay between artificial intelligence and human psychology."
   ]
  },
  {
   "cell_type": "code",
   "execution_count": 1,
   "metadata": {},
   "outputs": [
    {
     "name": "stderr",
     "output_type": "stream",
     "text": [
      "/home/jschelb/.pyenv/versions/3.10.8/envs/rup/lib/python3.10/site-packages/torch/cuda/__init__.py:611: UserWarning: Can't initialize NVML\n",
      "  warnings.warn(\"Can't initialize NVML\")\n"
     ]
    }
   ],
   "source": [
    "import rupsycho as rup"
   ]
  },
  {
   "cell_type": "markdown",
   "metadata": {},
   "source": [
    "## Load Experiments"
   ]
  },
  {
   "cell_type": "markdown",
   "metadata": {},
   "source": [
    "### Load Experiment from a File"
   ]
  },
  {
   "cell_type": "code",
   "execution_count": 2,
   "metadata": {},
   "outputs": [],
   "source": [
    "# Load a single experiment\n",
    "file_path = \"./data/bfi_demo_config.json\"\n",
    "experiment = rup.experiment_from_file(file_path)"
   ]
  },
  {
   "cell_type": "markdown",
   "metadata": {},
   "source": [
    "## Run Experiment"
   ]
  },
  {
   "cell_type": "code",
   "execution_count": 3,
   "metadata": {},
   "outputs": [
    {
     "data": {
      "application/vnd.jupyter.widget-view+json": {
       "model_id": "b0ae6068de90424cae245582473378cd",
       "version_major": 2,
       "version_minor": 0
      },
      "text/plain": [
       "Generative Models for Big Five Inventory:   0%|          | 0/8 [00:00<?, ? prompts/s]"
      ]
     },
     "metadata": {},
     "output_type": "display_data"
    },
    {
     "name": "stderr",
     "output_type": "stream",
     "text": [
      "/mnt/dataSSD2/jschelb/rupsycho-dev/src/rupsycho/mixins/experiment_processing.py:76: UserWarning: No parser set. Using StrOutputParser as default.\n",
      "  warnings.warn(\n",
      "/mnt/dataSSD2/jschelb/rupsycho-dev/src/rupsycho/mixins/experiment_processing.py:76: UserWarning: No parser set. Using StrOutputParser as default.\n",
      "  warnings.warn(\n",
      "/mnt/dataSSD2/jschelb/rupsycho-dev/src/rupsycho/mixins/experiment_processing.py:76: UserWarning: No parser set. Using StrOutputParser as default.\n",
      "  warnings.warn(\n",
      "/mnt/dataSSD2/jschelb/rupsycho-dev/src/rupsycho/mixins/experiment_processing.py:76: UserWarning: No parser set. Using StrOutputParser as default.\n",
      "  warnings.warn(\n"
     ]
    }
   ],
   "source": [
    "# Run the experiment\n",
    "experiment.run()"
   ]
  },
  {
   "cell_type": "markdown",
   "metadata": {},
   "source": [
    "## Save Results"
   ]
  },
  {
   "cell_type": "code",
   "execution_count": 5,
   "metadata": {},
   "outputs": [
    {
     "data": {
      "text/html": [
       "<div>\n",
       "<style scoped>\n",
       "    .dataframe tbody tr th:only-of-type {\n",
       "        vertical-align: middle;\n",
       "    }\n",
       "\n",
       "    .dataframe tbody tr th {\n",
       "        vertical-align: top;\n",
       "    }\n",
       "\n",
       "    .dataframe thead th {\n",
       "        text-align: right;\n",
       "    }\n",
       "</style>\n",
       "<table border=\"1\" class=\"dataframe\">\n",
       "  <thead>\n",
       "    <tr style=\"text-align: right;\">\n",
       "      <th></th>\n",
       "      <th>Instruction ID</th>\n",
       "      <th>Instruction Question</th>\n",
       "      <th>Model ID</th>\n",
       "      <th>Persona ID</th>\n",
       "      <th>Run Seed</th>\n",
       "      <th>Answer</th>\n",
       "    </tr>\n",
       "  </thead>\n",
       "  <tbody>\n",
       "    <tr>\n",
       "      <th>0</th>\n",
       "      <td>0</td>\n",
       "      <td>I see myself as someone who...</td>\n",
       "      <td>default_model</td>\n",
       "      <td>Optimistic Persona</td>\n",
       "      <td>7</td>\n",
       "      <td>System: \\nObjective: \"Here are a number of cha...</td>\n",
       "    </tr>\n",
       "    <tr>\n",
       "      <th>1</th>\n",
       "      <td>0</td>\n",
       "      <td>I see myself as someone who...</td>\n",
       "      <td>default_model</td>\n",
       "      <td>Conservative Persona</td>\n",
       "      <td>7</td>\n",
       "      <td>System: \\nObjective: \"Here are a number of cha...</td>\n",
       "    </tr>\n",
       "    <tr>\n",
       "      <th>2</th>\n",
       "      <td>1</td>\n",
       "      <td>Tends to find fault with others</td>\n",
       "      <td>default_model</td>\n",
       "      <td>Optimistic Persona</td>\n",
       "      <td>7</td>\n",
       "      <td>System: \\nObjective: \"Here are a number of cha...</td>\n",
       "    </tr>\n",
       "    <tr>\n",
       "      <th>3</th>\n",
       "      <td>1</td>\n",
       "      <td>Tends to find fault with others</td>\n",
       "      <td>default_model</td>\n",
       "      <td>Conservative Persona</td>\n",
       "      <td>7</td>\n",
       "      <td>System: \\nObjective: \"Here are a number of cha...</td>\n",
       "    </tr>\n",
       "    <tr>\n",
       "      <th>4</th>\n",
       "      <td>2</td>\n",
       "      <td>Does a thorough job</td>\n",
       "      <td>default_model</td>\n",
       "      <td>Optimistic Persona</td>\n",
       "      <td>7</td>\n",
       "      <td>System: \\nObjective: \"Here are a number of cha...</td>\n",
       "    </tr>\n",
       "    <tr>\n",
       "      <th>5</th>\n",
       "      <td>2</td>\n",
       "      <td>Does a thorough job</td>\n",
       "      <td>default_model</td>\n",
       "      <td>Conservative Persona</td>\n",
       "      <td>7</td>\n",
       "      <td>System: \\nObjective: \"Here are a number of cha...</td>\n",
       "    </tr>\n",
       "    <tr>\n",
       "      <th>6</th>\n",
       "      <td>3</td>\n",
       "      <td>Is depressed, blue</td>\n",
       "      <td>default_model</td>\n",
       "      <td>Optimistic Persona</td>\n",
       "      <td>7</td>\n",
       "      <td>System: \\nObjective: \"Here are a number of cha...</td>\n",
       "    </tr>\n",
       "    <tr>\n",
       "      <th>7</th>\n",
       "      <td>3</td>\n",
       "      <td>Is depressed, blue</td>\n",
       "      <td>default_model</td>\n",
       "      <td>Conservative Persona</td>\n",
       "      <td>7</td>\n",
       "      <td>System: \\nObjective: \"Here are a number of cha...</td>\n",
       "    </tr>\n",
       "  </tbody>\n",
       "</table>\n",
       "</div>"
      ],
      "text/plain": [
       "   Instruction ID             Instruction Question       Model ID  \\\n",
       "0               0   I see myself as someone who...  default_model   \n",
       "1               0   I see myself as someone who...  default_model   \n",
       "2               1  Tends to find fault with others  default_model   \n",
       "3               1  Tends to find fault with others  default_model   \n",
       "4               2              Does a thorough job  default_model   \n",
       "5               2              Does a thorough job  default_model   \n",
       "6               3               Is depressed, blue  default_model   \n",
       "7               3               Is depressed, blue  default_model   \n",
       "\n",
       "             Persona ID Run Seed  \\\n",
       "0    Optimistic Persona        7   \n",
       "1  Conservative Persona        7   \n",
       "2    Optimistic Persona        7   \n",
       "3  Conservative Persona        7   \n",
       "4    Optimistic Persona        7   \n",
       "5  Conservative Persona        7   \n",
       "6    Optimistic Persona        7   \n",
       "7  Conservative Persona        7   \n",
       "\n",
       "                                              Answer  \n",
       "0  System: \\nObjective: \"Here are a number of cha...  \n",
       "1  System: \\nObjective: \"Here are a number of cha...  \n",
       "2  System: \\nObjective: \"Here are a number of cha...  \n",
       "3  System: \\nObjective: \"Here are a number of cha...  \n",
       "4  System: \\nObjective: \"Here are a number of cha...  \n",
       "5  System: \\nObjective: \"Here are a number of cha...  \n",
       "6  System: \\nObjective: \"Here are a number of cha...  \n",
       "7  System: \\nObjective: \"Here are a number of cha...  "
      ]
     },
     "metadata": {},
     "output_type": "display_data"
    }
   ],
   "source": [
    "answers = experiment.get_answers_as_dataframe().head(30)\n",
    "display(answers)"
   ]
  },
  {
   "cell_type": "code",
   "execution_count": null,
   "metadata": {},
   "outputs": [],
   "source": []
  }
 ],
 "metadata": {
  "kernelspec": {
   "display_name": "rupsycho",
   "language": "python",
   "name": "python3"
  },
  "language_info": {
   "codemirror_mode": {
    "name": "ipython",
    "version": 3
   },
   "file_extension": ".py",
   "mimetype": "text/x-python",
   "name": "python",
   "nbconvert_exporter": "python",
   "pygments_lexer": "ipython3",
   "version": "3.10.8"
  }
 },
 "nbformat": 4,
 "nbformat_minor": 2
}
